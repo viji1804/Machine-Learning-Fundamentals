{
 "cells": [
  {
   "cell_type": "code",
   "execution_count": 1,
   "id": "a319a703",
   "metadata": {},
   "outputs": [],
   "source": [
    "import pandas as pd\n",
    "import numpy as np\n",
    "from sklearn.model_selection import train_test_split\n",
    "from sklearn.naive_bayes import GaussianNB\n",
    "from sklearn.metrics import classification_report, confusion_matrix, accuracy_score\n",
    "import matplotlib.pyplot as plt\n",
    "import seaborn as sns"
   ]
  },
  {
   "cell_type": "code",
   "execution_count": 2,
   "id": "eca22154",
   "metadata": {},
   "outputs": [],
   "source": [
    "df =pd.read_csv(\"weather_forecast.csv\")"
   ]
  },
  {
   "cell_type": "code",
   "execution_count": 3,
   "id": "e3d0efc6",
   "metadata": {},
   "outputs": [
    {
     "data": {
      "text/html": [
       "<div>\n",
       "<style scoped>\n",
       "    .dataframe tbody tr th:only-of-type {\n",
       "        vertical-align: middle;\n",
       "    }\n",
       "\n",
       "    .dataframe tbody tr th {\n",
       "        vertical-align: top;\n",
       "    }\n",
       "\n",
       "    .dataframe thead th {\n",
       "        text-align: right;\n",
       "    }\n",
       "</style>\n",
       "<table border=\"1\" class=\"dataframe\">\n",
       "  <thead>\n",
       "    <tr style=\"text-align: right;\">\n",
       "      <th></th>\n",
       "      <th>Outlook</th>\n",
       "      <th>Temperature</th>\n",
       "      <th>Humidity</th>\n",
       "      <th>Windy</th>\n",
       "      <th>Play</th>\n",
       "    </tr>\n",
       "  </thead>\n",
       "  <tbody>\n",
       "    <tr>\n",
       "      <th>0</th>\n",
       "      <td>Sunny</td>\n",
       "      <td>Hot</td>\n",
       "      <td>High</td>\n",
       "      <td>Weak</td>\n",
       "      <td>No</td>\n",
       "    </tr>\n",
       "    <tr>\n",
       "      <th>1</th>\n",
       "      <td>Sunny</td>\n",
       "      <td>Hot</td>\n",
       "      <td>High</td>\n",
       "      <td>Strong</td>\n",
       "      <td>No</td>\n",
       "    </tr>\n",
       "    <tr>\n",
       "      <th>2</th>\n",
       "      <td>Overcast</td>\n",
       "      <td>Hot</td>\n",
       "      <td>High</td>\n",
       "      <td>Weak</td>\n",
       "      <td>Yes</td>\n",
       "    </tr>\n",
       "    <tr>\n",
       "      <th>3</th>\n",
       "      <td>Rain</td>\n",
       "      <td>Mild</td>\n",
       "      <td>High</td>\n",
       "      <td>Weak</td>\n",
       "      <td>Yes</td>\n",
       "    </tr>\n",
       "    <tr>\n",
       "      <th>4</th>\n",
       "      <td>Rain</td>\n",
       "      <td>Cool</td>\n",
       "      <td>Normal</td>\n",
       "      <td>Weak</td>\n",
       "      <td>Yes</td>\n",
       "    </tr>\n",
       "  </tbody>\n",
       "</table>\n",
       "</div>"
      ],
      "text/plain": [
       "    Outlook Temperature Humidity   Windy Play\n",
       "0     Sunny         Hot     High    Weak   No\n",
       "1     Sunny         Hot     High  Strong   No\n",
       "2  Overcast         Hot     High    Weak  Yes\n",
       "3      Rain        Mild     High    Weak  Yes\n",
       "4      Rain        Cool   Normal    Weak  Yes"
      ]
     },
     "execution_count": 3,
     "metadata": {},
     "output_type": "execute_result"
    }
   ],
   "source": [
    "df.head()"
   ]
  },
  {
   "cell_type": "code",
   "execution_count": 12,
   "id": "accb5fa7",
   "metadata": {},
   "outputs": [],
   "source": [
    "X = df[['Outlook', 'Temperature', 'Humidity', 'Windy']]\n",
    "y = df['Play']\n",
    "\n",
    "# Convert categorical data to numerical\n",
    "X = pd.get_dummies(X, drop_first=True)\n",
    "y = y.map({'Yes': 1, 'No': 0})\n",
    "\n",
    "# Split the data into training and testing sets\n",
    "X_train, X_test, y_train, y_test = train_test_split(X, y, test_size=0.3, random_state=42)\n",
    "\n",
    "# Train the Naive Bayes classifier\n",
    "model = GaussianNB()\n",
    "model.fit(X_train, y_train)\n",
    "\n",
    "# Make predictions\n",
    "y_pred = model.predict(X_test)\n",
    "y_pred_proba = model.predict_proba(X_test)[:, 1]  # Probability estimates for the positive class"
   ]
  },
  {
   "cell_type": "code",
   "execution_count": 13,
   "id": "0aff17d2",
   "metadata": {},
   "outputs": [
    {
     "name": "stdout",
     "output_type": "stream",
     "text": [
      "Confusion Matrix:\n",
      "[[1 1]\n",
      " [1 2]]\n",
      "\n",
      "Classification Report:\n",
      "              precision    recall  f1-score   support\n",
      "\n",
      "           0       0.50      0.50      0.50         2\n",
      "           1       0.67      0.67      0.67         3\n",
      "\n",
      "    accuracy                           0.60         5\n",
      "   macro avg       0.58      0.58      0.58         5\n",
      "weighted avg       0.60      0.60      0.60         5\n",
      "\n",
      "Accuracy: 0.60\n"
     ]
    }
   ],
   "source": [
    "# Evaluate the model\n",
    "print(\"Confusion Matrix:\")\n",
    "print(confusion_matrix(y_test, y_pred))\n",
    "\n",
    "print(\"\\nClassification Report:\")\n",
    "print(classification_report(y_test, y_pred))\n",
    "\n",
    "accuracy = accuracy_score(y_test, y_pred)\n",
    "print(f\"Accuracy: {accuracy:.2f}\")\n"
   ]
  },
  {
   "cell_type": "code",
   "execution_count": 14,
   "id": "e5489c22",
   "metadata": {},
   "outputs": [
    {
     "data": {
      "image/png": "[encoded data removed]",
      "text/plain": [
       "<Figure size 800x600 with 2 Axes>"
      ]
     },
     "metadata": {},
     "output_type": "display_data"
    }
   ],
   "source": [
    "# Plotting confusion matrix\n",
    "plt.figure(figsize=(8, 6))\n",
    "sns.heatmap(confusion_matrix(y_test, y_pred), annot=True, fmt='d', cmap='Blues')\n",
    "plt.ylabel('Actual')\n",
    "plt.xlabel('Predicted')\n",
    "plt.title('Confusion Matrix')\n",
    "plt.show()\n"
   ]
  },
  {
   "cell_type": "code",
   "execution_count": 15,
   "id": "27507b09",
   "metadata": {},
   "outputs": [
    {
     "name": "stdout",
     "output_type": "stream",
     "text": [
      "Prediction for input {'Outlook': 'Sunny', 'Temperature': 'Mild', 'Humidity': 'Normal', 'Windy': 'Weak'}: No\n"
     ]
    }
   ],
   "source": [
    "# Making predictions with new input\n",
    "new_data = pd.DataFrame({\n",
    "    'Outlook': ['Sunny'],\n",
    "    'Temperature': ['Mild'],\n",
    "    'Humidity': ['Normal'],\n",
    "    'Windy': ['Weak']\n",
    "})\n",
    "\n",
    "new_data_encoded = pd.get_dummies(new_data, drop_first=True)\n",
    "new_data_encoded = new_data_encoded.reindex(columns=X.columns, fill_value=0)  # Align with training data\n",
    "prediction = model.predict(new_data_encoded)\n",
    "\n",
    "print(f\"Prediction for input {new_data.iloc[0].to_dict()}: {'Yes' if prediction[0] == 1 else 'No'}\")"
   ]
  },
  {
   "cell_type": "code",
   "execution_count": 16,
   "id": "d0f4b614",
   "metadata": {},
   "outputs": [
    {
     "data": {
      "image/png": "[encoded data removed]",
      "text/plain": [
       "<Figure size 800x600 with 1 Axes>"
      ]
     },
     "metadata": {},
     "output_type": "display_data"
    }
   ],
   "source": [
    "from sklearn.metrics import classification_report, confusion_matrix, accuracy_score, roc_curve, roc_auc_score\n",
    "# ROC and AUC\n",
    "fpr, tpr, thresholds = roc_curve(y_test, y_pred_proba)\n",
    "roc_auc = roc_auc_score(y_test, y_pred_proba)\n",
    "\n",
    "plt.figure(figsize=(8, 6))\n",
    "plt.plot(fpr, tpr, color='blue', label='ROC curve (area = %0.2f)' % roc_auc)\n",
    "plt.plot([0, 1], [0, 1], color='red', linestyle='--')  # diagonal line\n",
    "plt.xlim([0.0, 1.0])\n",
    "plt.ylim([0.0, 1.05])\n",
    "plt.xlabel('False Positive Rate')\n",
    "plt.ylabel('True Positive Rate')\n",
    "plt.title('Receiver Operating Characteristic')\n",
    "plt.legend(loc='lower right')\n",
    "plt.show()"
   ]
  },
  {
   "cell_type": "code",
   "execution_count": 17,
   "id": "b266ad24",
   "metadata": {},
   "outputs": [
    {
     "name": "stdout",
     "output_type": "stream",
     "text": [
      "The predicted class for {'Outlook': 'Sunny', 'Temperature': 'Mild', 'Humidity': 'High', 'Windy': 'Weak'} is: No\n"
     ]
    }
   ],
   "source": [
    "# Function to calculate prior probabilities\n",
    "def calculate_priors(df):\n",
    "    priors = {}\n",
    "    total_count = len(df)\n",
    "    \n",
    "    for label in df['Play'].unique():\n",
    "        priors[label] = len(df[df['Play'] == label]) / total_count\n",
    "    \n",
    "    return priors\n",
    "\n",
    "# Function to calculate likelihoods\n",
    "def calculate_likelihoods(df):\n",
    "    likelihoods = {}\n",
    "    \n",
    "    for feature in df.columns[:-1]:  # Exclude the last column (target variable)\n",
    "        likelihoods[feature] = {}\n",
    "        for label in df['Play'].unique():\n",
    "            subset = df[df['Play'] == label]\n",
    "            feature_freq = subset[feature].value_counts(normalize=True).to_dict()\n",
    "            likelihoods[feature][label] = feature_freq\n",
    "    return likelihoods\n",
    "\n",
    "# Function to predict the class\n",
    "def predict(instance, priors, likelihoods):\n",
    "    results = {}\n",
    "    \n",
    "    for label in priors.keys():\n",
    "        posterior = priors[label]\n",
    "        for feature, value in instance.items():\n",
    "            if value in likelihoods[feature][label]:\n",
    "                posterior *= likelihoods[feature][label][value]\n",
    "            else:\n",
    "                posterior *= 0  # If the feature value was not seen during training\n",
    "        \n",
    "        results[label] = posterior\n",
    "    \n",
    "    # Make the prediction based on results\n",
    "    predicted_class = max(results, key=results.get)\n",
    "    return predicted_class\n",
    "\n",
    "# Calculate prior probabilities and likelihoods\n",
    "priors = calculate_priors(df)\n",
    "likelihoods = calculate_likelihoods(df)\n",
    "\n",
    "# New instance to predict\n",
    "new_instance = {\n",
    "    'Outlook': 'Sunny',\n",
    "    'Temperature': 'Mild',\n",
    "    'Humidity': 'High',\n",
    "    'Windy': 'Weak'\n",
    "}\n",
    "\n",
    "# Predict the class for the new instance\n",
    "predicted_class = predict(new_instance, priors, likelihoods)\n",
    "print(f'The predicted class for {new_instance} is: {\"Yes\" if predicted_class == 1 else \"No\"}')"
   ]
  },
  {
   "cell_type": "code",
   "execution_count": null,
   "id": "8522dcfd",
   "metadata": {},
   "outputs": [],
   "source": []
  }
 ],
 "metadata": {
  "kernelspec": {
   "display_name": "Python 3 (ipykernel)",
   "language": "python",
   "name": "python3"
  },
  "language_info": {
   "codemirror_mode": {
    "name": "ipython",
    "version": 3
   },
   "file_extension": ".py",
   "mimetype": "text/x-python",
   "name": "python",
   "nbconvert_exporter": "python",
   "pygments_lexer": "ipython3",
   "version": "3.11.4"
  }
 },
 "nbformat": 4,
 "nbformat_minor": 5
}
